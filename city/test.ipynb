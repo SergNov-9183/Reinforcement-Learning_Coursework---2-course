{
 "cells": [
  {
   "cell_type": "code",
   "execution_count": 1,
   "id": "1658da9f",
   "metadata": {},
   "outputs": [],
   "source": [
    "from Environment import city\n",
    "import numpy as np"
   ]
  },
  {
   "cell_type": "code",
   "execution_count": 2,
   "id": "985f6cc2",
   "metadata": {},
   "outputs": [
    {
     "name": "stdout",
     "output_type": "stream",
     "text": [
      "Empty city was built. (only ground)\n"
     ]
    },
    {
     "name": "stderr",
     "output_type": "stream",
     "text": [
      "C:\\ProgramData\\Anaconda3\\lib\\site-packages\\ipykernel\\ipkernel.py:287: DeprecationWarning: `should_run_async` will not call `transform_cell` automatically in the future. Please pass the result to `transformed_cell` argument and any exception that happen during thetransform in `preprocessing_exc_tuple` in IPython 7.17 and above.\n",
      "  and should_run_async(code)\n"
     ]
    }
   ],
   "source": [
    "c = city.City()"
   ]
  },
  {
   "cell_type": "code",
   "execution_count": 3,
   "id": "4c746a9b",
   "metadata": {},
   "outputs": [
    {
     "data": {
      "text/plain": [
       "array([[ 3,  2],\n",
       "       [ 3, 18],\n",
       "       [ 3, 33],\n",
       "       [ 3, 46],\n",
       "       [17,  2],\n",
       "       [17, 18],\n",
       "       [17, 33],\n",
       "       [17, 46],\n",
       "       [31,  2],\n",
       "       [31, 18],\n",
       "       [31, 46],\n",
       "       [41, 46],\n",
       "       [47,  2],\n",
       "       [47, 46]], dtype=int64)"
      ]
     },
     "execution_count": 3,
     "metadata": {},
     "output_type": "execute_result"
    }
   ],
   "source": [
    "c.intersections"
   ]
  },
  {
   "cell_type": "code",
   "execution_count": 4,
   "id": "c14f8be1",
   "metadata": {},
   "outputs": [],
   "source": [
    "cnnt_intrs = np.array([[0, 1],\n",
    "                       [0, 4], \n",
    "                       [1, 2],\n",
    "                       [1, 5], \n",
    "                       [2, 3], \n",
    "                       [2, 6],\n",
    "                       [3, 7],\n",
    "                       [4, 5],\n",
    "                       [4, 8],\n",
    "                       [5, 6],\n",
    "                       [5, 9],\n",
    "                       [6, 7],\n",
    "                       [7, 10],\n",
    "                       [8, 9], \n",
    "                       [8, 12],\n",
    "                       [9, 10],\n",
    "                       [10, 11],\n",
    "                       [11, 13],\n",
    "                       [12, 13]])"
   ]
  },
  {
   "cell_type": "code",
   "execution_count": 6,
   "id": "3221ff55",
   "metadata": {},
   "outputs": [
    {
     "name": "stdout",
     "output_type": "stream",
     "text": [
      "Roads and intersections were built.\n"
     ]
    }
   ],
   "source": [
    "c.make_roads(cnnt_intrs)"
   ]
  },
  {
   "cell_type": "code",
   "execution_count": 7,
   "id": "9f51aab6",
   "metadata": {},
   "outputs": [],
   "source": [
    "c.print_model_to_file('model_with_intersections.txt')"
   ]
  }
 ],
 "metadata": {
  "kernelspec": {
   "display_name": "Python 3",
   "language": "python",
   "name": "python3"
  },
  "language_info": {
   "codemirror_mode": {
    "name": "ipython",
    "version": 3
   },
   "file_extension": ".py",
   "mimetype": "text/x-python",
   "name": "python",
   "nbconvert_exporter": "python",
   "pygments_lexer": "ipython3",
   "version": "3.8.8"
  }
 },
 "nbformat": 4,
 "nbformat_minor": 5
}
