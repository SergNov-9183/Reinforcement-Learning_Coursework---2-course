{
 "cells": [
  {
   "cell_type": "code",
   "execution_count": 6,
   "id": "1658da9f",
   "metadata": {},
   "outputs": [
    {
     "name": "stderr",
     "output_type": "stream",
     "text": [
      "C:\\ProgramData\\Anaconda3\\lib\\site-packages\\ipykernel\\ipkernel.py:287: DeprecationWarning: `should_run_async` will not call `transform_cell` automatically in the future. Please pass the result to `transformed_cell` argument and any exception that happen during thetransform in `preprocessing_exc_tuple` in IPython 7.17 and above.\n",
      "  and should_run_async(code)\n"
     ]
    }
   ],
   "source": [
    "from Environment.city import City \n",
    "import numpy as np"
   ]
  },
  {
   "cell_type": "code",
   "execution_count": 7,
   "id": "985f6cc2",
   "metadata": {},
   "outputs": [
    {
     "name": "stdout",
     "output_type": "stream",
     "text": [
      "Empty city was built.\n",
      "Ground was built.\n",
      "Intersections and roads were built.\n"
     ]
    }
   ],
   "source": [
    "c = City()"
   ]
  },
  {
   "cell_type": "code",
   "execution_count": 8,
   "id": "9f51aab6",
   "metadata": {},
   "outputs": [],
   "source": [
    "c.print_model_to_file('model_with_intersections_and_lanes(without dynamic lanes).txt')"
   ]
  },
  {
   "cell_type": "code",
   "execution_count": 9,
   "id": "5db18094",
   "metadata": {},
   "outputs": [
    {
     "name": "stdout",
     "output_type": "stream",
     "text": [
      "Empty city was built.\n",
      "Ground was built.\n",
      "Intersections and roads were built.\n"
     ]
    }
   ],
   "source": [
    "c1 = City(narrowing_and_expansion=True)"
   ]
  },
  {
   "cell_type": "code",
   "execution_count": 10,
   "id": "f6ff537d",
   "metadata": {},
   "outputs": [],
   "source": [
    "c1.print_model_to_file('model_with_intersections_and_lanes(with dynamic lanes).txt')"
   ]
  },
  {
   "cell_type": "code",
   "execution_count": null,
   "id": "58cf7486",
   "metadata": {},
   "outputs": [],
   "source": []
  }
 ],
 "metadata": {
  "kernelspec": {
   "display_name": "Python 3",
   "language": "python",
   "name": "python3"
  },
  "language_info": {
   "codemirror_mode": {
    "name": "ipython",
    "version": 3
   },
   "file_extension": ".py",
   "mimetype": "text/x-python",
   "name": "python",
   "nbconvert_exporter": "python",
   "pygments_lexer": "ipython3",
   "version": "3.8.8"
  }
 },
 "nbformat": 4,
 "nbformat_minor": 5
}
