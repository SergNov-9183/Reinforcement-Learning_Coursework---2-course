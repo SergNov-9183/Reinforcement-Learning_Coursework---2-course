{
 "cells": [
  {
   "cell_type": "code",
   "execution_count": 11,
   "id": "ca21746b",
   "metadata": {},
   "outputs": [],
   "source": [
    "from Agent.agent import Agent"
   ]
  },
  {
   "cell_type": "code",
   "execution_count": 12,
   "id": "ac025add",
   "metadata": {},
   "outputs": [
    {
     "name": "stdout",
     "output_type": "stream",
     "text": [
      "Empty city was built.\n",
      "Ground was built.\n",
      "Intersections and roads were built.\n"
     ]
    }
   ],
   "source": [
    "a = Agent()"
   ]
  },
  {
   "cell_type": "code",
   "execution_count": 21,
   "id": "e9c39b1b",
   "metadata": {},
   "outputs": [
    {
     "name": "stdout",
     "output_type": "stream",
     "text": [
      "Start: (14, 2),current_direction = 'N',lane = 0\n",
      "Finish: (47, 27)\n",
      "Vector(axis0=33, axis1=25)\n",
      "tg_alpha = 1.32\n",
      "alpha = 52.85331330197822\n",
      "22.5\n",
      "State: ('N', 'SE', (0, 4, LaneInfo(is_left=True, is_right=False)), (      G()       , R(v____|____dsb),       G()       ,       G()       , R(v____|____dsb),       G()       ))\n"
     ]
    }
   ],
   "source": [
    "a.env.test_state()"
   ]
  },
  {
   "cell_type": "code",
   "execution_count": null,
   "id": "89a6bd43",
   "metadata": {},
   "outputs": [],
   "source": []
  }
 ],
 "metadata": {
  "kernelspec": {
   "display_name": "Python 3",
   "language": "python",
   "name": "python3"
  },
  "language_info": {
   "codemirror_mode": {
    "name": "ipython",
    "version": 3
   },
   "file_extension": ".py",
   "mimetype": "text/x-python",
   "name": "python",
   "nbconvert_exporter": "python",
   "pygments_lexer": "ipython3",
   "version": "3.8.8"
  }
 },
 "nbformat": 4,
 "nbformat_minor": 5
}
