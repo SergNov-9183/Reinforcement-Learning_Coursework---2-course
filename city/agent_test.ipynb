{
 "cells": [
  {
   "cell_type": "code",
   "execution_count": 1,
   "id": "ca21746b",
   "metadata": {},
   "outputs": [],
   "source": [
    "from Agent.agent import Agent"
   ]
  },
  {
   "cell_type": "code",
   "execution_count": 2,
   "id": "ac025add",
   "metadata": {},
   "outputs": [
    {
     "name": "stdout",
     "output_type": "stream",
     "text": [
      "Empty city was built.\n",
      "Ground was built.\n",
      "Intersections and roads were built.\n"
     ]
    },
    {
     "name": "stderr",
     "output_type": "stream",
     "text": [
      "C:\\ProgramData\\Anaconda3\\lib\\site-packages\\ipykernel\\ipkernel.py:287: DeprecationWarning: `should_run_async` will not call `transform_cell` automatically in the future. Please pass the result to `transformed_cell` argument and any exception that happen during thetransform in `preprocessing_exc_tuple` in IPython 7.17 and above.\n",
      "  and should_run_async(code)\n"
     ]
    }
   ],
   "source": [
    "a = Agent()"
   ]
  },
  {
   "cell_type": "code",
   "execution_count": 22,
   "id": "37e634a0",
   "metadata": {},
   "outputs": [
    {
     "data": {
      "text/plain": [
       "self.current_direction = 'E'\n",
       "CarCoord(axis0=3, axis1=39)\n",
       "DestCoord(axis0=47, axis1=13)\n",
       "self.current_lane = 0\n",
       "[[      G()         R(h__|___dsb)         G()       ]\n",
       " [      G()          R(h__|__dsb)         G()       ]]"
      ]
     },
     "execution_count": 22,
     "metadata": {},
     "output_type": "execute_result"
    }
   ],
   "source": [
    "state = a.env.reset()\n",
    "state"
   ]
  },
  {
   "cell_type": "code",
   "execution_count": 26,
   "id": "04f74f24",
   "metadata": {},
   "outputs": [
    {
     "name": "stdout",
     "output_type": "stream",
     "text": [
      "Vector(axis0=44, axis1=-26)\n",
      "tg_alpha = -1.6923076923076923\n",
      "alpha = 120.57922687248902\n",
      "22.5\n",
      "67.5\n",
      "112.5\n"
     ]
    },
    {
     "data": {
      "text/plain": [
       "('E', 'SW', LaneInfo(is_left=True, is_right=False), False)"
      ]
     },
     "execution_count": 26,
     "metadata": {},
     "output_type": "execute_result"
    }
   ],
   "source": [
    "state.to_learning_state()"
   ]
  },
  {
   "cell_type": "code",
   "execution_count": null,
   "id": "6e7762af",
   "metadata": {},
   "outputs": [],
   "source": []
  },
  {
   "cell_type": "code",
   "execution_count": null,
   "id": "878ab4d1",
   "metadata": {},
   "outputs": [],
   "source": []
  },
  {
   "cell_type": "code",
   "execution_count": null,
   "id": "dfa7599b",
   "metadata": {},
   "outputs": [],
   "source": []
  }
 ],
 "metadata": {
  "kernelspec": {
   "display_name": "Python 3",
   "language": "python",
   "name": "python3"
  },
  "language_info": {
   "codemirror_mode": {
    "name": "ipython",
    "version": 3
   },
   "file_extension": ".py",
   "mimetype": "text/x-python",
   "name": "python",
   "nbconvert_exporter": "python",
   "pygments_lexer": "ipython3",
   "version": "3.8.8"
  }
 },
 "nbformat": 4,
 "nbformat_minor": 5
}
