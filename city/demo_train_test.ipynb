{
 "cells": [
  {
   "cell_type": "code",
   "execution_count": 1,
   "id": "9e8c2a43",
   "metadata": {
    "pycharm": {
     "name": "#%%\n"
    }
   },
   "outputs": [],
   "source": [
    "from Agent.agent import Agent"
   ]
  },
  {
   "cell_type": "code",
   "execution_count": 2,
   "id": "f4e9a4fe",
   "metadata": {
    "pycharm": {
     "name": "#%%\n"
    }
   },
   "outputs": [
    {
     "name": "stdout",
     "output_type": "stream",
     "text": [
      "Empty city was built.\n",
      "Full city was built.\n",
      "100%|████████████████████████████████████████████████████████████████████████████████| 269/269 [06:52<00:00,  1.53s/it]\n",
      "Transition dictionary was built.\n"
     ]
    }
   ],
   "source": [
    "agent = Agent(9, 0, False)"
   ]
  },
  {
   "cell_type": "code",
   "execution_count": 3,
   "id": "5e887d92",
   "metadata": {
    "pycharm": {
     "name": "#%%\n"
    }
   },
   "outputs": [
    {
     "name": "stdout",
     "output_type": "stream",
     "text": [
      "Q_table extraction progress: 100%|███████████████████████████████████████████| 675282/675282 [02:30<00:00, 4494.56it/s]\n"
     ]
    }
   ],
   "source": [
    "agent.extract_q_table(Agent.load_compressed_q_table_from_file('с_t'))"
   ]
  },
  {
   "cell_type": "code",
   "execution_count": null,
   "id": "8c15aad9",
   "metadata": {},
   "outputs": [],
   "source": []
  },
  {
   "cell_type": "code",
   "execution_count": 7,
   "id": "1a8a0406",
   "metadata": {
    "pycharm": {
     "name": "#%%\n"
    }
   },
   "outputs": [
    {
     "name": "stdout",
     "output_type": "stream",
     "text": [
      "Episode 0: sum_reward = -49810\n",
      "Episode 1: sum_reward = -31970\n",
      "Episode 2: sum_reward = 58725\n",
      "Episode 3: sum_reward = 99525\n",
      "Episode 4: sum_reward = -56025\n",
      "Episode 5: sum_reward = 77430\n",
      "Episode 6: sum_reward = -56755\n",
      "Episode 7: sum_reward = -61660\n",
      "Episode 8: sum_reward = -64200\n",
      "Episode 9: sum_reward = 87145\n",
      "Episode 10: sum_reward = 78180\n",
      "Episode 11: sum_reward = 105020\n",
      "Episode 12: sum_reward = -10000\n",
      "Episode 13: sum_reward = 105560\n",
      "Episode 14: sum_reward = 86845\n",
      "Episode 15: sum_reward = 81940\n",
      "Episode 16: sum_reward = 79740\n",
      "Episode 17: sum_reward = 90200\n",
      "Episode 18: sum_reward = 94690\n",
      "Episode 19: sum_reward = 60895\n",
      "Episode 20: sum_reward = 89035\n",
      "Episode 21: sum_reward = 74785\n",
      "Episode 22: sum_reward = 80100\n",
      "Episode 23: sum_reward = -32070\n",
      "Episode 24: sum_reward = 99015\n",
      "Episode 25: sum_reward = -33390\n",
      "Episode 26: sum_reward = -20300\n",
      "Episode 27: sum_reward = -27975\n",
      "Episode 28: sum_reward = 88815\n",
      "Episode 29: sum_reward = 98975\n",
      "Episode 30: sum_reward = -50000\n",
      "Episode 31: sum_reward = 93070\n",
      "Episode 32: sum_reward = 74650\n",
      "Episode 33: sum_reward = 80110\n",
      "Episode 34: sum_reward = 64970\n",
      "Episode 35: sum_reward = -63950\n",
      "Episode 36: sum_reward = -19440\n",
      "Episode 37: sum_reward = 66750\n",
      "Episode 38: sum_reward = 61010\n",
      "Episode 39: sum_reward = -10000\n",
      "Episode 40: sum_reward = -34610\n",
      "Episode 41: sum_reward = 90890\n",
      "Episode 42: sum_reward = -63510\n",
      "Episode 43: sum_reward = 70895\n",
      "Episode 44: sum_reward = -56335\n",
      "Episode 45: sum_reward = -63200\n",
      "Episode 46: sum_reward = 43185\n",
      "Episode 47: sum_reward = -50750\n",
      "Episode 48: sum_reward = -26045\n",
      "Episode 49: sum_reward = 67840\n",
      "Episode 50: sum_reward = 45595\n",
      "Episode 51: sum_reward = -10000\n",
      "Episode 52: sum_reward = 78660\n",
      "Episode 53: sum_reward = 87135\n",
      "Episode 54: sum_reward = -19270\n",
      "Episode 55: sum_reward = -55865\n",
      "Episode 56: sum_reward = 56275\n",
      "Episode 57: sum_reward = 61945\n",
      "Episode 58: sum_reward = -49990\n",
      "Episode 59: sum_reward = -61460\n",
      "Episode 60: sum_reward = -55665\n",
      "Episode 61: sum_reward = -55805\n",
      "Episode 62: sum_reward = 48570\n",
      "Episode 63: sum_reward = 91040\n",
      "Episode 64: sum_reward = -49800\n",
      "Episode 65: sum_reward = 98585\n",
      "Episode 66: sum_reward = 84105\n",
      "Episode 67: sum_reward = 99675\n",
      "Episode 68: sum_reward = 92950\n",
      "Episode 69: sum_reward = 90050\n",
      "Episode 70: sum_reward = -34180\n",
      "Episode 71: sum_reward = 85895\n",
      "Episode 72: sum_reward = 51860\n",
      "Episode 73: sum_reward = 92920\n",
      "Episode 74: sum_reward = -61800\n",
      "Episode 75: sum_reward = -25835\n",
      "Episode 76: sum_reward = -50010\n",
      "Episode 77: sum_reward = -55665\n",
      "Episode 78: sum_reward = 74850\n",
      "Episode 79: sum_reward = 60515\n",
      "Episode 80: sum_reward = -61060\n",
      "Episode 81: sum_reward = 73165\n",
      "Episode 82: sum_reward = -10000\n",
      "Episode 83: sum_reward = 82710\n",
      "Episode 84: sum_reward = -33360\n",
      "Episode 85: sum_reward = 98765\n",
      "Episode 86: sum_reward = 93640\n",
      "Episode 87: sum_reward = 78810\n",
      "Episode 88: sum_reward = 92290\n",
      "Episode 89: sum_reward = -20880\n",
      "Episode 90: sum_reward = -37690\n",
      "Episode 91: sum_reward = -49380\n",
      "Episode 92: sum_reward = -49850\n",
      "Episode 93: sum_reward = 66220\n",
      "Episode 94: sum_reward = 105920\n",
      "Episode 95: sum_reward = -10000\n",
      "Episode 96: sum_reward = 78720\n",
      "Episode 97: sum_reward = -98825\n",
      "Episode 98: sum_reward = -10000\n",
      "Episode 99: sum_reward = 71725\n",
      "56/100 objects reached their destination. Where next_to_border = 35\n",
      "cycled = 6\n"
     ]
    }
   ],
   "source": [
    "agent.perform(100)"
   ]
  },
  {
   "cell_type": "code",
   "execution_count": null,
   "id": "3e7a07cb",
   "metadata": {
    "pycharm": {
     "name": "#%%\n"
    }
   },
   "outputs": [],
   "source": []
  }
 ],
 "metadata": {
  "kernelspec": {
   "display_name": "Python 3",
   "language": "python",
   "name": "python3"
  },
  "language_info": {
   "codemirror_mode": {
    "name": "ipython",
    "version": 3
   },
   "file_extension": ".py",
   "mimetype": "text/x-python",
   "name": "python",
   "nbconvert_exporter": "python",
   "pygments_lexer": "ipython3",
   "version": "3.8.8"
  }
 },
 "nbformat": 4,
 "nbformat_minor": 5
}
