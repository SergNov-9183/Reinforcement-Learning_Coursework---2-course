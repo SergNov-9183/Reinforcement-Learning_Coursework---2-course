{
 "cells": [
  {
   "cell_type": "code",
   "execution_count": null,
   "id": "1658da9f",
   "metadata": {
    "pycharm": {
     "name": "#%%\n"
    }
   },
   "outputs": [],
   "source": [
    "from Environment.city import City\n",
    "import numpy as np"
   ]
  },
  {
   "cell_type": "code",
   "execution_count": null,
   "id": "985f6cc2",
   "metadata": {
    "pycharm": {
     "name": "#%%\n"
    }
   },
   "outputs": [],
   "source": [
    "c = City()"
   ]
  },
  {
   "cell_type": "code",
   "execution_count": null,
   "id": "9f51aab6",
   "metadata": {
    "pycharm": {
     "name": "#%%\n"
    }
   },
   "outputs": [],
   "source": [
    "c.print_model_to_file('model_with_intersections_and_lanes(without dynamic lanes).txt')"
   ]
  },
  {
   "cell_type": "code",
   "execution_count": null,
   "id": "5db18094",
   "metadata": {
    "pycharm": {
     "name": "#%%\n"
    }
   },
   "outputs": [],
   "source": [
    "c1 = City(narrowing_and_expansion=True)"
   ]
  },
  {
   "cell_type": "code",
   "execution_count": null,
   "id": "f6ff537d",
   "metadata": {
    "pycharm": {
     "name": "#%%\n"
    }
   },
   "outputs": [],
   "source": [
    "c1.print_model_to_file('model_with_intersections_and_lanes(with dynamic lanes).txt')"
   ]
  },
  {
   "cell_type": "code",
   "execution_count": null,
   "id": "f945e95c",
   "metadata": {
    "pycharm": {
     "name": "#%%\n"
    }
   },
   "outputs": [],
   "source": []
  }
 ],
 "metadata": {
  "kernelspec": {
   "display_name": "Python 3",
   "language": "python",
   "name": "python3"
  },
  "language_info": {
   "codemirror_mode": {
    "name": "ipython",
    "version": 3
   },
   "file_extension": ".py",
   "mimetype": "text/x-python",
   "name": "python",
   "nbconvert_exporter": "python",
   "pygments_lexer": "ipython3",
   "version": "3.8.8"
  }
 },
 "nbformat": 4,
 "nbformat_minor": 5
}